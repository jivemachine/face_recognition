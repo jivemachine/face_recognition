{
 "cells": [
  {
   "cell_type": "markdown",
   "metadata": {},
   "source": [
    "# imports"
   ]
  },
  {
   "cell_type": "code",
   "execution_count": 1,
   "metadata": {},
   "outputs": [],
   "source": [
    "import numpy as np\n",
    "import cv2"
   ]
  },
  {
   "cell_type": "markdown",
   "metadata": {},
   "source": [
    "- we're going to be using the Haar Cascade classifier for face detection. It trains by using negative and positive images, after which it becomes able to detect objects or in our case...faces :)"
   ]
  },
  {
   "cell_type": "code",
   "execution_count": 2,
   "metadata": {},
   "outputs": [],
   "source": [
    "# importing our mode from cv2\n",
    "face_cascade = cv2.CascadeClassifier(\"Cascades/haarcascade_frontalface_default.xml\")"
   ]
  },
  {
   "cell_type": "code",
   "execution_count": 3,
   "metadata": {},
   "outputs": [],
   "source": [
    "# we're going to use our webcam and we're giving openCV terminal access to our camera\n",
    "capture = cv2.VideoCapture(0)"
   ]
  },
  {
   "cell_type": "code",
   "execution_count": 4,
   "metadata": {},
   "outputs": [
    {
     "data": {
      "text/plain": [
       "True"
      ]
     },
     "execution_count": 4,
     "metadata": {},
     "output_type": "execute_result"
    }
   ],
   "source": [
    "capture.set(3,640) # set Width\n",
    "capture.set(4,480) # set height"
   ]
  },
  {
   "cell_type": "markdown",
   "metadata": {},
   "source": [
    "### here you will notice your webcam turn green ;L"
   ]
  },
  {
   "cell_type": "code",
   "execution_count": 1,
   "metadata": {},
   "outputs": [
    {
     "name": "stdout",
     "output_type": "stream",
     "text": [
      ">loaded 7929D03D-4312-4602-9077-4A7C8E1D1F1E.jpeg (3392, 1908, 3)\n",
      ">loaded CC25626C-3438-4C9C-AF9C-B5727FA1B004.jpeg (3088, 2316, 3)\n",
      ">loaded 6F7947C2-94DC-45BB-BFF5-252A185BB529.jpeg (3088, 2316, 3)\n",
      ">loaded IMG_1878.jpeg (1280, 720, 3)\n",
      ">loaded IMG_1710.jpeg (1280, 720, 3)\n",
      ">loaded IMG_7502.jpeg (1932, 2576, 3)\n",
      ">loaded 06A2B314-7AA2-4331-984B-18FEC3A167D5.jpeg (2077, 1885, 3)\n",
      ">loaded IMG_1526.jpeg (1932, 2576, 3)\n",
      ">loaded F9509DD1-A79F-4A1C-B2B9-CCBAA8797067.jpeg (3088, 2316, 3)\n",
      ">loaded IMG_8443.jpeg (2576, 1932, 3)\n",
      ">loaded 26216954-7709-4C5C-A5DF-8CB52D7F3638.jpeg (3392, 1908, 3)\n",
      ">loaded AD477A1D-B792-4C33-B1B4-EE0A2D667E5B.jpeg (2576, 1932, 3)\n",
      ">loaded 4D7AF344-291B-4C38-AEAF-1486AB45BB08.jpeg (3088, 2316, 3)\n",
      ">loaded BE1BE954-5B4A-412E-A8C4-A25666007B21.jpeg (3088, 2316, 3)\n",
      ">loaded IMG_8440.jpeg (2576, 1932, 3)\n",
      ">loaded 83005645-1693-482E-AD7C-46C27CD94194.jpeg (3088, 2316, 3)\n",
      ">loaded 04013EE0-34A8-4E96-893C-00EE9BC0F5CA.jpeg (3088, 2316, 3)\n",
      ">loaded 131AEC03-B3C8-403C-BC45-6993C1EA20BA.jpeg (3088, 2316, 3)\n",
      ">loaded IMG_1372.jpeg (2316, 3088, 3)\n",
      ">loaded 34CA433A-9460-4CBB-8FB3-9CA690CE72DE-D480E0A3-6C5A-4331-8B2E-4E364FA8B330.jpeg (3088, 2316, 3)\n",
      ">loaded D30BEEB8-4536-422D-A155-5EE033E586AD.jpeg (3088, 2316, 3)\n",
      ">loaded 56AE8F46-B098-44A1-96C4-B3117BA6C98C.jpeg (3088, 2316, 3)\n",
      ">loaded IMG_8870.jpeg (2250, 3000, 3)\n",
      ">loaded IMG_1888.jpeg (1280, 720, 3)\n",
      ">loaded IMG_2359.jpeg (3392, 1908, 3)\n"
     ]
    }
   ],
   "source": [
    "from os import listdir\n",
    "from matplotlib import image\n",
    "# loading all images in my_face directory\n",
    "loaded_images = list()\n",
    "for filename in listdir('my_face'):\n",
    "    # load images\n",
    "    images = image.imread(\"my_face/\" + filename)\n",
    "    # store loaded image\n",
    "    loaded_images.append(images)\n",
    "    print(\">loaded %s %s\" % (filename, images.shape))\n"
   ]
  },
  {
   "cell_type": "code",
   "execution_count": 2,
   "metadata": {},
   "outputs": [
    {
     "data": {
      "text/plain": [
       "25"
      ]
     },
     "execution_count": 2,
     "metadata": {},
     "output_type": "execute_result"
    }
   ],
   "source": [
    "len(loaded_images)"
   ]
  },
  {
   "cell_type": "code",
   "execution_count": null,
   "metadata": {},
   "outputs": [],
   "source": [
    "image_ids = list()\n"
   ]
  }
 ],
 "metadata": {
  "kernelspec": {
   "display_name": "Python 3",
   "language": "python",
   "name": "python3"
  },
  "language_info": {
   "codemirror_mode": {
    "name": "ipython",
    "version": 3
   },
   "file_extension": ".py",
   "mimetype": "text/x-python",
   "name": "python",
   "nbconvert_exporter": "python",
   "pygments_lexer": "ipython3",
   "version": "3.7.4"
  }
 },
 "nbformat": 4,
 "nbformat_minor": 4
}
